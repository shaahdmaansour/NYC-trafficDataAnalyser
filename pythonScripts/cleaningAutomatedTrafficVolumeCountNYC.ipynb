{
  "nbformat": 4,
  "nbformat_minor": 0,
  "metadata": {
    "colab": {
      "provenance": []
    },
    "kernelspec": {
      "name": "python3",
      "display_name": "Python 3"
    },
    "language_info": {
      "name": "python"
    }
  },
  "cells": [
    {
      "cell_type": "code",
      "execution_count": 23,
      "metadata": {
        "id": "WWqJN_VI1blF"
      },
      "outputs": [],
      "source": [
        "import pandas as pd"
      ]
    },
    {
      "cell_type": "code",
      "source": [
        "df = pd.read_csv(\"automatedTrafficVolumeCounts20250416.csv\")"
      ],
      "metadata": {
        "id": "eX25y0pX7H9m"
      },
      "execution_count": 24,
      "outputs": []
    },
    {
      "cell_type": "code",
      "source": [
        "print(df.head())          # view the first 5 rows\n",
        "print(df.info())          # view column types and non-null counts\n",
        "print(df.columns)         # view column names"
      ],
      "metadata": {
        "colab": {
          "base_uri": "https://localhost:8080/"
        },
        "id": "z_hzEzrx7M-c",
        "outputId": "59e59099-3cbe-485a-d72d-720de34382a4"
      },
      "execution_count": 25,
      "outputs": [
        {
          "output_type": "stream",
          "name": "stdout",
          "text": [
            "   RequestID      Boro    Yr   M   D  HH  MM  Vol  SegmentID  \\\n",
            "0      32970    Queens  2021   4  30   2   0    0     149701   \n",
            "1      32970    Queens  2021   4  30   2  15    1     149701   \n",
            "2      11342  Brooklyn  2012  12  18   8  15   33      20063   \n",
            "3      32970    Queens  2021   4  30   2  30    0     149701   \n",
            "4      32970    Queens  2021   4  30   2  45    0     149701   \n",
            "\n",
            "                                        WktGeom          street  \\\n",
            "0  POINT (997407.0998491726 208620.92612708386)  PULASKI BRIDGE   \n",
            "1  POINT (997407.0998491726 208620.92612708386)  PULASKI BRIDGE   \n",
            "2                     POINT (985746.5 167127.4)           61 ST   \n",
            "3  POINT (997407.0998491726 208620.92612708386)  PULASKI BRIDGE   \n",
            "4  POINT (997407.0998491726 208620.92612708386)  PULASKI BRIDGE   \n",
            "\n",
            "                    fromSt      toSt Direction  \n",
            "0  Newtown Creek Shoreline  Dead end        NB  \n",
            "1  Newtown Creek Shoreline  Dead end        NB  \n",
            "2                    15 AV     16 AV        WB  \n",
            "3  Newtown Creek Shoreline  Dead end        NB  \n",
            "4  Newtown Creek Shoreline  Dead end        NB  \n",
            "<class 'pandas.core.frame.DataFrame'>\n",
            "RangeIndex: 1712605 entries, 0 to 1712604\n",
            "Data columns (total 14 columns):\n",
            " #   Column     Dtype \n",
            "---  ------     ----- \n",
            " 0   RequestID  int64 \n",
            " 1   Boro       object\n",
            " 2   Yr         int64 \n",
            " 3   M          int64 \n",
            " 4   D          int64 \n",
            " 5   HH         int64 \n",
            " 6   MM         int64 \n",
            " 7   Vol        int64 \n",
            " 8   SegmentID  int64 \n",
            " 9   WktGeom    object\n",
            " 10  street     object\n",
            " 11  fromSt     object\n",
            " 12  toSt       object\n",
            " 13  Direction  object\n",
            "dtypes: int64(8), object(6)\n",
            "memory usage: 182.9+ MB\n",
            "None\n",
            "Index(['RequestID', 'Boro', 'Yr', 'M', 'D', 'HH', 'MM', 'Vol', 'SegmentID',\n",
            "       'WktGeom', 'street', 'fromSt', 'toSt', 'Direction'],\n",
            "      dtype='object')\n"
          ]
        }
      ]
    },
    {
      "cell_type": "code",
      "source": [
        "# check missing values\n",
        "print(df.isnull().sum())"
      ],
      "metadata": {
        "colab": {
          "base_uri": "https://localhost:8080/"
        },
        "id": "4wJ_m64z7QNQ",
        "outputId": "b3c0198b-9e28-488f-b2e7-1b61932f3eec"
      },
      "execution_count": 26,
      "outputs": [
        {
          "output_type": "stream",
          "name": "stdout",
          "text": [
            "RequestID       0\n",
            "Boro            0\n",
            "Yr              0\n",
            "M               0\n",
            "D               0\n",
            "HH              0\n",
            "MM              0\n",
            "Vol             0\n",
            "SegmentID       0\n",
            "WktGeom         0\n",
            "street          0\n",
            "fromSt          0\n",
            "toSt         1246\n",
            "Direction       0\n",
            "dtype: int64\n"
          ]
        }
      ]
    },
    {
      "cell_type": "code",
      "source": [
        "# find the most common value (mode) in 'toSt'\n",
        "most_common_tost = df['toSt'].mode()[0]\n",
        "\n",
        "# fill missing values with the most common value (mode)\n",
        "df['toSt'] = df['toSt'].fillna(most_common_tost)\n",
        "\n",
        "# verify that there are no more missing values\n",
        "print(f\"Missing values in 'toSt' after filling: {df['toSt'].isnull().sum()}\")"
      ],
      "metadata": {
        "colab": {
          "base_uri": "https://localhost:8080/"
        },
        "id": "khJYhDeT7aBb",
        "outputId": "d23cc8b2-2adb-472a-ca0a-d7dee22481ac"
      },
      "execution_count": 27,
      "outputs": [
        {
          "output_type": "stream",
          "name": "stdout",
          "text": [
            "Missing values in 'toSt' after filling: 0\n"
          ]
        }
      ]
    },
    {
      "cell_type": "code",
      "source": [
        "# check missing values\n",
        "print(df.isnull().sum())"
      ],
      "metadata": {
        "colab": {
          "base_uri": "https://localhost:8080/"
        },
        "id": "62bSxYJu8BEK",
        "outputId": "8aa8ce05-3e2d-43ea-ece6-006e481e1ba8"
      },
      "execution_count": 28,
      "outputs": [
        {
          "output_type": "stream",
          "name": "stdout",
          "text": [
            "RequestID    0\n",
            "Boro         0\n",
            "Yr           0\n",
            "M            0\n",
            "D            0\n",
            "HH           0\n",
            "MM           0\n",
            "Vol          0\n",
            "SegmentID    0\n",
            "WktGeom      0\n",
            "street       0\n",
            "fromSt       0\n",
            "toSt         0\n",
            "Direction    0\n",
            "dtype: int64\n"
          ]
        }
      ]
    },
    {
      "cell_type": "code",
      "source": [
        "# convert date and time columns to one \"datetime\" column\n",
        "df['date'] = pd.to_datetime(df[['Yr', 'M', 'D', 'HH', 'MM']].rename(\n",
        "    columns={'Yr': 'year', 'M': 'month', 'D': 'day', 'HH': 'hour', 'MM': 'minute'}),\n",
        "    errors='coerce'\n",
        ")"
      ],
      "metadata": {
        "id": "_TJhG1GG8D0P"
      },
      "execution_count": 29,
      "outputs": []
    },
    {
      "cell_type": "code",
      "source": [
        "# drop the original \"year, month, day, hour, minute\" columns\n",
        "df.drop(columns=['Yr', 'M', 'D', 'HH', 'MM'], inplace=True)"
      ],
      "metadata": {
        "id": "J5BKhZ7p8L4M"
      },
      "execution_count": 30,
      "outputs": []
    },
    {
      "cell_type": "code",
      "source": [
        "# convert numeric columns to proper format\n",
        "df['RequestID'] = pd.to_numeric(df['RequestID'], errors='coerce')\n",
        "df['SegmentID'] = pd.to_numeric(df['SegmentID'], errors='coerce')\n",
        "df['Vol'] = pd.to_numeric(df['Vol'], errors='coerce')"
      ],
      "metadata": {
        "id": "QmXeyHSV9B4h"
      },
      "execution_count": 31,
      "outputs": []
    },
    {
      "cell_type": "code",
      "source": [
        "# drop rows with missing important data\n",
        "df.dropna(subset=['date', 'Vol'], inplace=True)"
      ],
      "metadata": {
        "id": "r1Xvsn2l9GYI"
      },
      "execution_count": 32,
      "outputs": []
    },
    {
      "cell_type": "code",
      "source": [
        "# clean test columns\n",
        "df['Boro'] = df['Boro'].str.strip().str.lower()\n",
        "df['Direction'] = df['Direction'].str.strip().str.upper()\n",
        "df['street'] = df['street'].str.strip().str.lower()\n",
        "df['fromSt'] = df['fromSt'].str.strip().str.lower()\n",
        "df['toSt'] = df['toSt'].str.strip().str.lower()"
      ],
      "metadata": {
        "id": "tFFV08QY9NoL"
      },
      "execution_count": 33,
      "outputs": []
    },
    {
      "cell_type": "code",
      "source": [
        "# filter the data to include only rows where the year is 2023\n",
        "df = df[df['date'].dt.year == 2023]\n",
        "\n",
        "# verify the data\n",
        "print(f\"Data for 2023: {df.shape[0]} rows\")"
      ],
      "metadata": {
        "colab": {
          "base_uri": "https://localhost:8080/"
        },
        "id": "ge-jCRTq9Qck",
        "outputId": "bdf68a4b-9ff1-4ed3-c7d5-04200013bae2"
      },
      "execution_count": 34,
      "outputs": [
        {
          "output_type": "stream",
          "name": "stdout",
          "text": [
            "Data for 2023: 71328 rows\n"
          ]
        }
      ]
    },
    {
      "cell_type": "code",
      "source": [
        "# save the filtered data to a new CSV file\n",
        "df.to_csv(\"filteredTrafficVolumeCounts2023.csv\", index=False)\n",
        "\n",
        "# confirm the file is saved\n",
        "print(\"data for 2023 has been saved to 'Filtered_Traffic_Volume_Counts_2023.csv'\")"
      ],
      "metadata": {
        "colab": {
          "base_uri": "https://localhost:8080/"
        },
        "id": "eLY838dS-HKv",
        "outputId": "7150658d-fd5f-4531-d1b7-c5fc6cba98cf"
      },
      "execution_count": 35,
      "outputs": [
        {
          "output_type": "stream",
          "name": "stdout",
          "text": [
            "data for 2023 has been saved to 'Filtered_Traffic_Volume_Counts_2023.csv'\n"
          ]
        }
      ]
    }
  ]
}